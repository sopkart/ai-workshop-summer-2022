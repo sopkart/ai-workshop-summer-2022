{
  "nbformat": 4,
  "nbformat_minor": 0,
  "metadata": {
    "colab": {
      "name": "pandas",
      "provenance": [],
      "authorship_tag": "ABX9TyPPbb93Mtpl7g8hFXHaQvNX",
      "include_colab_link": true
    },
    "kernelspec": {
      "name": "python3",
      "display_name": "Python 3"
    },
    "language_info": {
      "name": "python"
    }
  },
  "cells": [
    {
      "cell_type": "markdown",
      "metadata": {
        "id": "view-in-github",
        "colab_type": "text"
      },
      "source": [
        "<a href=\"https://colab.research.google.com/github/sopkart/ai-workshop-summer-2022/blob/main/pandas.ipynb\" target=\"_parent\"><img src=\"https://colab.research.google.com/assets/colab-badge.svg\" alt=\"Open In Colab\"/></a>"
      ]
    },
    {
      "cell_type": "code",
      "execution_count": null,
      "metadata": {
        "id": "r_BnO05wsEAS"
      },
      "outputs": [],
      "source": [
        "import pandas as pd\n",
        "import numpy as np"
      ]
    },
    {
      "cell_type": "code",
      "source": [
        "scores = pd.Series([43,54,12,86,98,24,78,97,54])\n",
        "\n",
        "lt = [23,32,234,23,23,23]\n",
        "\n",
        "print(lt)\n",
        "print(scores)"
      ],
      "metadata": {
        "colab": {
          "base_uri": "https://localhost:8080/"
        },
        "id": "FGhaEFl7TyWr",
        "outputId": "77c37e4f-96fe-4850-dee6-d13dd03697e8"
      },
      "execution_count": null,
      "outputs": [
        {
          "output_type": "stream",
          "name": "stdout",
          "text": [
            "[23, 32, 234, 23, 23, 23]\n",
            "0    43\n",
            "1    54\n",
            "2    12\n",
            "3    86\n",
            "4    98\n",
            "5    24\n",
            "6    78\n",
            "7    97\n",
            "8    54\n",
            "dtype: int64\n"
          ]
        }
      ]
    },
    {
      "cell_type": "code",
      "source": [
        "scores[1]\n",
        "\n",
        "scores[:]\n",
        "scores[1:5]\n",
        "scores.values"
      ],
      "metadata": {
        "colab": {
          "base_uri": "https://localhost:8080/"
        },
        "id": "pFAuhklyU1j7",
        "outputId": "b1cbb8e3-1bcd-4332-9e55-7a99dec319bf"
      },
      "execution_count": null,
      "outputs": [
        {
          "output_type": "execute_result",
          "data": {
            "text/plain": [
              "array([43, 54, 12, 86, 98, 24, 78, 97, 54])"
            ]
          },
          "metadata": {},
          "execution_count": 6
        }
      ]
    },
    {
      "cell_type": "code",
      "source": [
        "scores.index = ['A', 'B', 'C', 'D', 'E', 'F', 'G', 'H', 'I']\n",
        "print(scores)\n",
        "print(scores['F'])\n",
        "print(scores[:])\n",
        "print(scores['B':'G'])"
      ],
      "metadata": {
        "colab": {
          "base_uri": "https://localhost:8080/"
        },
        "id": "vz6q1uluVvd7",
        "outputId": "5dc0727e-0a5e-47ad-d91b-d002c18fdc95"
      },
      "execution_count": null,
      "outputs": [
        {
          "output_type": "stream",
          "name": "stdout",
          "text": [
            "A    43\n",
            "B    54\n",
            "C    12\n",
            "D    86\n",
            "E    98\n",
            "F    24\n",
            "G    78\n",
            "H    97\n",
            "I    54\n",
            "dtype: int64\n",
            "24\n",
            "A    43\n",
            "B    54\n",
            "C    12\n",
            "D    86\n",
            "E    98\n",
            "F    24\n",
            "G    78\n",
            "H    97\n",
            "I    54\n",
            "dtype: int64\n",
            "B    54\n",
            "C    12\n",
            "D    86\n",
            "E    98\n",
            "F    24\n",
            "G    78\n",
            "dtype: int64\n"
          ]
        }
      ]
    },
    {
      "cell_type": "code",
      "source": [
        "dummy_scores = pd.Series([1,2,5,8,21], index=['qw','we','er','rt','ty'])\n",
        "print(dummy_scores)\n",
        "print(dummy_scores['rt'])"
      ],
      "metadata": {
        "colab": {
          "base_uri": "https://localhost:8080/"
        },
        "id": "PtpkmmDLWHuY",
        "outputId": "385b784a-dea8-483e-b8e0-42cf8d66887f"
      },
      "execution_count": null,
      "outputs": [
        {
          "output_type": "stream",
          "name": "stdout",
          "text": [
            "qw     1\n",
            "we     2\n",
            "er     5\n",
            "rt     8\n",
            "ty    21\n",
            "dtype: int64\n",
            "8\n"
          ]
        }
      ]
    },
    {
      "cell_type": "code",
      "source": [
        "print(scores)\n",
        "print(scores.iloc[0])\n",
        "print(scores.iloc[-1])\n",
        "print(scores.iloc[:])\n",
        "print(scores[['A','B']])"
      ],
      "metadata": {
        "colab": {
          "base_uri": "https://localhost:8080/"
        },
        "id": "9HFiL3dsW9t6",
        "outputId": "e8e19c5f-34e8-4ed2-ddff-8cc7ca99df84"
      },
      "execution_count": null,
      "outputs": [
        {
          "output_type": "stream",
          "name": "stdout",
          "text": [
            "A    43\n",
            "B    54\n",
            "C    12\n",
            "D    86\n",
            "E    98\n",
            "F    24\n",
            "G    78\n",
            "H    97\n",
            "I    54\n",
            "dtype: int64\n",
            "43\n",
            "54\n",
            "A    43\n",
            "B    54\n",
            "C    12\n",
            "D    86\n",
            "E    98\n",
            "F    24\n",
            "G    78\n",
            "H    97\n",
            "I    54\n",
            "dtype: int64\n",
            "A    43\n",
            "B    54\n",
            "dtype: int64\n"
          ]
        }
      ]
    },
    {
      "cell_type": "code",
      "source": [
        "scores>50\n",
        "scores[scores>50]\n",
        "\n",
        "print(scores.mean())\n",
        "print(scores.std())\n",
        "scores[scores>scores.mean()]"
      ],
      "metadata": {
        "colab": {
          "base_uri": "https://localhost:8080/"
        },
        "id": "kOvtIr_3Xovk",
        "outputId": "087959ff-46cc-4e7f-d7bc-d30d497d8887"
      },
      "execution_count": null,
      "outputs": [
        {
          "output_type": "stream",
          "name": "stdout",
          "text": [
            "60.666666666666664\n",
            "31.164884084494844\n"
          ]
        },
        {
          "output_type": "execute_result",
          "data": {
            "text/plain": [
              "D    86\n",
              "E    98\n",
              "G    78\n",
              "H    97\n",
              "dtype: int64"
            ]
          },
          "metadata": {},
          "execution_count": 24
        }
      ]
    },
    {
      "cell_type": "code",
      "source": [
        "print(scores)\n",
        "scores['A'] = 70\n",
        "print(scores)"
      ],
      "metadata": {
        "colab": {
          "base_uri": "https://localhost:8080/"
        },
        "id": "GGeAOay1ZOtk",
        "outputId": "3499f45e-5227-43a3-c20d-2f4a17310c98"
      },
      "execution_count": null,
      "outputs": [
        {
          "output_type": "stream",
          "name": "stdout",
          "text": [
            "A    43\n",
            "B    54\n",
            "C    12\n",
            "D    86\n",
            "E    98\n",
            "F    24\n",
            "G    78\n",
            "H    97\n",
            "I    54\n",
            "dtype: int64\n",
            "A    70\n",
            "B    54\n",
            "C    12\n",
            "D    86\n",
            "E    98\n",
            "F    24\n",
            "G    78\n",
            "H    97\n",
            "I    54\n",
            "dtype: int64\n"
          ]
        }
      ]
    },
    {
      "cell_type": "code",
      "source": [
        ""
      ],
      "metadata": {
        "id": "phm5Sy6JaBDx"
      },
      "execution_count": null,
      "outputs": []
    }
  ]
}