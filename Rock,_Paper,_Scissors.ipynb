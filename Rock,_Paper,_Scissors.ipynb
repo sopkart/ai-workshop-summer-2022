{
  "nbformat": 4,
  "nbformat_minor": 0,
  "metadata": {
    "colab": {
      "name": "Rock, Paper, Scissors",
      "provenance": []
    },
    "kernelspec": {
      "name": "python3",
      "display_name": "Python 3"
    },
    "language_info": {
      "name": "python"
    }
  },
  "cells": [
    {
      "cell_type": "code",
      "execution_count": null,
      "metadata": {
        "colab": {
          "base_uri": "https://localhost:8080/"
        },
        "id": "QUXXCo2Q-GSh",
        "outputId": "91297208-2725-435f-e5dc-dff6b4f8a00d"
      },
      "outputs": [
        {
          "output_type": "stream",
          "name": "stdout",
          "text": [
            "Type 1 for rock, 2 for paper, and 3 for scissors: 3\n",
            "2\n",
            "win\n"
          ]
        }
      ],
      "source": [
        "import random\n",
        "\n",
        "list = [1,2,3]\n",
        "player_move = int(input(\"Type 1 for rock, 2 for paper, and 3 for scissors: \"))\n",
        "comp_move = random.choice(list)\n",
        "print(comp_move)\n",
        "if player_move == 1:\n",
        "  if comp_move == 3:\n",
        "    print(\"win\")\n",
        "  elif comp_move == 1:\n",
        "    print('draw')\n",
        "  else:\n",
        "    print('lose')\n",
        "elif player_move == 2:\n",
        "  if comp_move == 1:\n",
        "    print(\"win\")\n",
        "  elif comp_move == 2:\n",
        "    print('draw')\n",
        "  else:\n",
        "    print('lose')\n",
        "else:\n",
        "  if comp_move == 2:\n",
        "    print(\"win\")\n",
        "  elif comp_move == 3:\n",
        "    print('draw')\n",
        "  else:\n",
        "    print('lose')"
      ]
    }
  ]
}