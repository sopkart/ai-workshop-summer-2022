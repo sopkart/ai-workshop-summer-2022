{
  "nbformat": 4,
  "nbformat_minor": 0,
  "metadata": {
    "colab": {
      "name": "scalers",
      "provenance": [],
      "authorship_tag": "ABX9TyP4D5uQT/XQSPXG4sgJg2IC",
      "include_colab_link": true
    },
    "kernelspec": {
      "name": "python3",
      "display_name": "Python 3"
    },
    "language_info": {
      "name": "python"
    }
  },
  "cells": [
    {
      "cell_type": "markdown",
      "metadata": {
        "id": "view-in-github",
        "colab_type": "text"
      },
      "source": [
        "<a href=\"https://colab.research.google.com/github/sopkart/ai-workshop-summer-2022/blob/main/scalers.ipynb\" target=\"_parent\"><img src=\"https://colab.research.google.com/assets/colab-badge.svg\" alt=\"Open In Colab\"/></a>"
      ]
    },
    {
      "cell_type": "code",
      "execution_count": 7,
      "metadata": {
        "colab": {
          "base_uri": "https://localhost:8080/"
        },
        "id": "FCPSHnnwHgUs",
        "outputId": "63ebb8d0-43b1-4c24-97cb-255fffd152d0"
      },
      "outputs": [
        {
          "output_type": "stream",
          "name": "stdout",
          "text": [
            "MinMaxScaler()\n",
            "[ 1. 18.]\n",
            "[[0.   0.  ]\n",
            " [0.25 0.4 ]\n",
            " [0.5  0.6 ]\n",
            " [1.   1.  ]]\n"
          ]
        }
      ],
      "source": [
        "from sklearn.preprocessing import MinMaxScaler\n",
        "from sklearn.preprocessing import StandardScaler\n",
        "data = [[-1,-2], [-0.5,6], [0,10], [1,18]]\n",
        "\n",
        "scaler = MinMaxScaler()\n",
        "print(scaler.fit(data))\n",
        "print(scaler.data_max_)\n",
        "print(scaler.transform(data))"
      ]
    },
    {
      "cell_type": "code",
      "source": [
        "data = [[0,0], [0,0], [1,1],[1,1]]\n",
        "\n",
        "scaler = StandardScaler()\n",
        "print(scaler.fit(data))\n",
        "\n"
      ],
      "metadata": {
        "colab": {
          "base_uri": "https://localhost:8080/"
        },
        "id": "v_EFhRySItYN",
        "outputId": "dfcb0927-8d06-4927-837b-d8baadb88c17"
      },
      "execution_count": 8,
      "outputs": [
        {
          "output_type": "stream",
          "name": "stdout",
          "text": [
            "StandardScaler()\n"
          ]
        }
      ]
    },
    {
      "cell_type": "code",
      "source": [
        "print(scaler.mean_)"
      ],
      "metadata": {
        "colab": {
          "base_uri": "https://localhost:8080/"
        },
        "id": "YVLX6rEWJLRI",
        "outputId": "9dabf65b-121a-45e4-ae07-1e870ed2a12c"
      },
      "execution_count": 9,
      "outputs": [
        {
          "output_type": "stream",
          "name": "stdout",
          "text": [
            "[0.5 0.5]\n"
          ]
        }
      ]
    },
    {
      "cell_type": "code",
      "source": [
        "print(scaler.transform(data))"
      ],
      "metadata": {
        "colab": {
          "base_uri": "https://localhost:8080/"
        },
        "id": "tx3Uj_ASJLyh",
        "outputId": "24e0a21e-5107-4632-f15f-124703f021e2"
      },
      "execution_count": 10,
      "outputs": [
        {
          "output_type": "stream",
          "name": "stdout",
          "text": [
            "[[-1. -1.]\n",
            " [-1. -1.]\n",
            " [ 1.  1.]\n",
            " [ 1.  1.]]\n"
          ]
        }
      ]
    },
    {
      "cell_type": "code",
      "source": [
        ""
      ],
      "metadata": {
        "id": "olZFxg_yJev0"
      },
      "execution_count": null,
      "outputs": []
    }
  ]
}