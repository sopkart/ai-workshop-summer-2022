{
  "nbformat": 4,
  "nbformat_minor": 0,
  "metadata": {
    "colab": {
      "name": "wine",
      "provenance": [],
      "authorship_tag": "ABX9TyOohR4HumeJYadgikiHyP7L",
      "include_colab_link": true
    },
    "kernelspec": {
      "name": "python3",
      "display_name": "Python 3"
    },
    "language_info": {
      "name": "python"
    }
  },
  "cells": [
    {
      "cell_type": "markdown",
      "metadata": {
        "id": "view-in-github",
        "colab_type": "text"
      },
      "source": [
        "<a href=\"https://colab.research.google.com/github/sopkart/ai-workshop-summer-2022/blob/main/wine.ipynb\" target=\"_parent\"><img src=\"https://colab.research.google.com/assets/colab-badge.svg\" alt=\"Open In Colab\"/></a>"
      ]
    },
    {
      "cell_type": "code",
      "execution_count": null,
      "metadata": {
        "id": "NuSo6gqh9LYo"
      },
      "outputs": [],
      "source": [
        "import numpy as np\n",
        "import pandas as pd\n",
        "from sklearn.model_selection import train_test_split\n",
        "from sklearn.linear_model import LinearRegression\n",
        "import matplotlib.pyplot as plt\n",
        "import seaborn as sns\n",
        "import math, copy\n",
        "data = pd.read_csv('wine.csv')"
      ]
    },
    {
      "cell_type": "code",
      "source": [
        "data.head()"
      ],
      "metadata": {
        "colab": {
          "base_uri": "https://localhost:8080/",
          "height": 206
        },
        "id": "lGZhRHMB9L6U",
        "outputId": "2a3ac44b-5cb4-4e54-bae2-077c3afcce58"
      },
      "execution_count": null,
      "outputs": [
        {
          "output_type": "execute_result",
          "data": {
            "text/plain": [
              "   Year   Price  WinterRain     AGST  HarvestRain  Age  FrancePop\n",
              "0  1952  7.4950         600  17.1167          160   31  43183.569\n",
              "1  1953  8.0393         690  16.7333           80   30  43495.030\n",
              "2  1955  7.6858         502  17.1500          130   28  44217.857\n",
              "3  1957  6.9845         420  16.1333          110   26  45152.252\n",
              "4  1958  6.7772         582  16.4167          187   25  45653.805"
            ],
            "text/html": [
              "\n",
              "  <div id=\"df-5dba16e2-ec9d-4743-a7e7-f5f0945d5c01\">\n",
              "    <div class=\"colab-df-container\">\n",
              "      <div>\n",
              "<style scoped>\n",
              "    .dataframe tbody tr th:only-of-type {\n",
              "        vertical-align: middle;\n",
              "    }\n",
              "\n",
              "    .dataframe tbody tr th {\n",
              "        vertical-align: top;\n",
              "    }\n",
              "\n",
              "    .dataframe thead th {\n",
              "        text-align: right;\n",
              "    }\n",
              "</style>\n",
              "<table border=\"1\" class=\"dataframe\">\n",
              "  <thead>\n",
              "    <tr style=\"text-align: right;\">\n",
              "      <th></th>\n",
              "      <th>Year</th>\n",
              "      <th>Price</th>\n",
              "      <th>WinterRain</th>\n",
              "      <th>AGST</th>\n",
              "      <th>HarvestRain</th>\n",
              "      <th>Age</th>\n",
              "      <th>FrancePop</th>\n",
              "    </tr>\n",
              "  </thead>\n",
              "  <tbody>\n",
              "    <tr>\n",
              "      <th>0</th>\n",
              "      <td>1952</td>\n",
              "      <td>7.4950</td>\n",
              "      <td>600</td>\n",
              "      <td>17.1167</td>\n",
              "      <td>160</td>\n",
              "      <td>31</td>\n",
              "      <td>43183.569</td>\n",
              "    </tr>\n",
              "    <tr>\n",
              "      <th>1</th>\n",
              "      <td>1953</td>\n",
              "      <td>8.0393</td>\n",
              "      <td>690</td>\n",
              "      <td>16.7333</td>\n",
              "      <td>80</td>\n",
              "      <td>30</td>\n",
              "      <td>43495.030</td>\n",
              "    </tr>\n",
              "    <tr>\n",
              "      <th>2</th>\n",
              "      <td>1955</td>\n",
              "      <td>7.6858</td>\n",
              "      <td>502</td>\n",
              "      <td>17.1500</td>\n",
              "      <td>130</td>\n",
              "      <td>28</td>\n",
              "      <td>44217.857</td>\n",
              "    </tr>\n",
              "    <tr>\n",
              "      <th>3</th>\n",
              "      <td>1957</td>\n",
              "      <td>6.9845</td>\n",
              "      <td>420</td>\n",
              "      <td>16.1333</td>\n",
              "      <td>110</td>\n",
              "      <td>26</td>\n",
              "      <td>45152.252</td>\n",
              "    </tr>\n",
              "    <tr>\n",
              "      <th>4</th>\n",
              "      <td>1958</td>\n",
              "      <td>6.7772</td>\n",
              "      <td>582</td>\n",
              "      <td>16.4167</td>\n",
              "      <td>187</td>\n",
              "      <td>25</td>\n",
              "      <td>45653.805</td>\n",
              "    </tr>\n",
              "  </tbody>\n",
              "</table>\n",
              "</div>\n",
              "      <button class=\"colab-df-convert\" onclick=\"convertToInteractive('df-5dba16e2-ec9d-4743-a7e7-f5f0945d5c01')\"\n",
              "              title=\"Convert this dataframe to an interactive table.\"\n",
              "              style=\"display:none;\">\n",
              "        \n",
              "  <svg xmlns=\"http://www.w3.org/2000/svg\" height=\"24px\"viewBox=\"0 0 24 24\"\n",
              "       width=\"24px\">\n",
              "    <path d=\"M0 0h24v24H0V0z\" fill=\"none\"/>\n",
              "    <path d=\"M18.56 5.44l.94 2.06.94-2.06 2.06-.94-2.06-.94-.94-2.06-.94 2.06-2.06.94zm-11 1L8.5 8.5l.94-2.06 2.06-.94-2.06-.94L8.5 2.5l-.94 2.06-2.06.94zm10 10l.94 2.06.94-2.06 2.06-.94-2.06-.94-.94-2.06-.94 2.06-2.06.94z\"/><path d=\"M17.41 7.96l-1.37-1.37c-.4-.4-.92-.59-1.43-.59-.52 0-1.04.2-1.43.59L10.3 9.45l-7.72 7.72c-.78.78-.78 2.05 0 2.83L4 21.41c.39.39.9.59 1.41.59.51 0 1.02-.2 1.41-.59l7.78-7.78 2.81-2.81c.8-.78.8-2.07 0-2.86zM5.41 20L4 18.59l7.72-7.72 1.47 1.35L5.41 20z\"/>\n",
              "  </svg>\n",
              "      </button>\n",
              "      \n",
              "  <style>\n",
              "    .colab-df-container {\n",
              "      display:flex;\n",
              "      flex-wrap:wrap;\n",
              "      gap: 12px;\n",
              "    }\n",
              "\n",
              "    .colab-df-convert {\n",
              "      background-color: #E8F0FE;\n",
              "      border: none;\n",
              "      border-radius: 50%;\n",
              "      cursor: pointer;\n",
              "      display: none;\n",
              "      fill: #1967D2;\n",
              "      height: 32px;\n",
              "      padding: 0 0 0 0;\n",
              "      width: 32px;\n",
              "    }\n",
              "\n",
              "    .colab-df-convert:hover {\n",
              "      background-color: #E2EBFA;\n",
              "      box-shadow: 0px 1px 2px rgba(60, 64, 67, 0.3), 0px 1px 3px 1px rgba(60, 64, 67, 0.15);\n",
              "      fill: #174EA6;\n",
              "    }\n",
              "\n",
              "    [theme=dark] .colab-df-convert {\n",
              "      background-color: #3B4455;\n",
              "      fill: #D2E3FC;\n",
              "    }\n",
              "\n",
              "    [theme=dark] .colab-df-convert:hover {\n",
              "      background-color: #434B5C;\n",
              "      box-shadow: 0px 1px 3px 1px rgba(0, 0, 0, 0.15);\n",
              "      filter: drop-shadow(0px 1px 2px rgba(0, 0, 0, 0.3));\n",
              "      fill: #FFFFFF;\n",
              "    }\n",
              "  </style>\n",
              "\n",
              "      <script>\n",
              "        const buttonEl =\n",
              "          document.querySelector('#df-5dba16e2-ec9d-4743-a7e7-f5f0945d5c01 button.colab-df-convert');\n",
              "        buttonEl.style.display =\n",
              "          google.colab.kernel.accessAllowed ? 'block' : 'none';\n",
              "\n",
              "        async function convertToInteractive(key) {\n",
              "          const element = document.querySelector('#df-5dba16e2-ec9d-4743-a7e7-f5f0945d5c01');\n",
              "          const dataTable =\n",
              "            await google.colab.kernel.invokeFunction('convertToInteractive',\n",
              "                                                     [key], {});\n",
              "          if (!dataTable) return;\n",
              "\n",
              "          const docLinkHtml = 'Like what you see? Visit the ' +\n",
              "            '<a target=\"_blank\" href=https://colab.research.google.com/notebooks/data_table.ipynb>data table notebook</a>'\n",
              "            + ' to learn more about interactive tables.';\n",
              "          element.innerHTML = '';\n",
              "          dataTable['output_type'] = 'display_data';\n",
              "          await google.colab.output.renderOutput(dataTable, element);\n",
              "          const docLink = document.createElement('div');\n",
              "          docLink.innerHTML = docLinkHtml;\n",
              "          element.appendChild(docLink);\n",
              "        }\n",
              "      </script>\n",
              "    </div>\n",
              "  </div>\n",
              "  "
            ]
          },
          "metadata": {},
          "execution_count": 2
        }
      ]
    },
    {
      "cell_type": "code",
      "source": [
        "data.columns"
      ],
      "metadata": {
        "colab": {
          "base_uri": "https://localhost:8080/"
        },
        "id": "6PN3O1km9lhG",
        "outputId": "1b0f924d-562f-4d6c-ae8e-9a0467af8977"
      },
      "execution_count": null,
      "outputs": [
        {
          "output_type": "execute_result",
          "data": {
            "text/plain": [
              "Index(['Year', 'Price', 'WinterRain', 'AGST', 'HarvestRain', 'Age',\n",
              "       'FrancePop'],\n",
              "      dtype='object')"
            ]
          },
          "metadata": {},
          "execution_count": 3
        }
      ]
    },
    {
      "cell_type": "code",
      "source": [
        "data.info"
      ],
      "metadata": {
        "colab": {
          "base_uri": "https://localhost:8080/"
        },
        "id": "LEkxrk3OA0Vc",
        "outputId": "642aecea-fb14-4bea-ca32-f805b18664ac"
      },
      "execution_count": null,
      "outputs": [
        {
          "output_type": "execute_result",
          "data": {
            "text/plain": [
              "<bound method DataFrame.info of     Year   Price  WinterRain     AGST  HarvestRain  Age  FrancePop\n",
              "0   1952  7.4950         600  17.1167          160   31  43183.569\n",
              "1   1953  8.0393         690  16.7333           80   30  43495.030\n",
              "2   1955  7.6858         502  17.1500          130   28  44217.857\n",
              "3   1957  6.9845         420  16.1333          110   26  45152.252\n",
              "4   1958  6.7772         582  16.4167          187   25  45653.805\n",
              "5   1959  8.0757         485  17.4833          187   24  46128.638\n",
              "6   1960  6.5188         763  16.4167          290   23  46583.995\n",
              "7   1961  8.4937         830  17.3333           38   22  47128.005\n",
              "8   1962  7.3880         697  16.3000           52   21  48088.673\n",
              "9   1963  6.7127         608  15.7167          155   20  48798.990\n",
              "10  1964  7.3094         402  17.2667           96   19  49356.943\n",
              "11  1965  6.2518         602  15.3667          267   18  49801.821\n",
              "12  1966  7.7443         819  16.5333           86   17  50254.966\n",
              "13  1967  6.8398         714  16.2333          118   16  50650.406\n",
              "14  1968  6.2435         610  16.2000          292   15  51034.413\n",
              "15  1969  6.3459         575  16.5500          244   14  51470.276\n",
              "16  1970  7.5883         622  16.6667           89   13  51918.389\n",
              "17  1971  7.1934         551  16.7667          112   12  52431.647\n",
              "18  1972  6.2049         536  14.9833          158   11  52894.183\n",
              "19  1973  6.6367         376  17.0667          123   10  53332.805\n",
              "20  1974  6.2941         574  16.3000          184    9  53689.610\n",
              "21  1975  7.2920         572  16.9500          171    8  53955.042\n",
              "22  1976  7.1211         418  17.6500          247    7  54159.049\n",
              "23  1977  6.2587         821  15.5833           87    6  54378.362\n",
              "24  1978  7.1860         763  15.8167           51    5  54602.193>"
            ]
          },
          "metadata": {},
          "execution_count": 4
        }
      ]
    },
    {
      "cell_type": "code",
      "source": [
        "data.describe"
      ],
      "metadata": {
        "colab": {
          "base_uri": "https://localhost:8080/"
        },
        "id": "ObgFyt9OA4BN",
        "outputId": "05f7c583-d86d-4a9a-e9fb-459cff5e9116"
      },
      "execution_count": null,
      "outputs": [
        {
          "output_type": "execute_result",
          "data": {
            "text/plain": [
              "<bound method NDFrame.describe of     Year   Price  WinterRain     AGST  HarvestRain  Age  FrancePop\n",
              "0   1952  7.4950         600  17.1167          160   31  43183.569\n",
              "1   1953  8.0393         690  16.7333           80   30  43495.030\n",
              "2   1955  7.6858         502  17.1500          130   28  44217.857\n",
              "3   1957  6.9845         420  16.1333          110   26  45152.252\n",
              "4   1958  6.7772         582  16.4167          187   25  45653.805\n",
              "5   1959  8.0757         485  17.4833          187   24  46128.638\n",
              "6   1960  6.5188         763  16.4167          290   23  46583.995\n",
              "7   1961  8.4937         830  17.3333           38   22  47128.005\n",
              "8   1962  7.3880         697  16.3000           52   21  48088.673\n",
              "9   1963  6.7127         608  15.7167          155   20  48798.990\n",
              "10  1964  7.3094         402  17.2667           96   19  49356.943\n",
              "11  1965  6.2518         602  15.3667          267   18  49801.821\n",
              "12  1966  7.7443         819  16.5333           86   17  50254.966\n",
              "13  1967  6.8398         714  16.2333          118   16  50650.406\n",
              "14  1968  6.2435         610  16.2000          292   15  51034.413\n",
              "15  1969  6.3459         575  16.5500          244   14  51470.276\n",
              "16  1970  7.5883         622  16.6667           89   13  51918.389\n",
              "17  1971  7.1934         551  16.7667          112   12  52431.647\n",
              "18  1972  6.2049         536  14.9833          158   11  52894.183\n",
              "19  1973  6.6367         376  17.0667          123   10  53332.805\n",
              "20  1974  6.2941         574  16.3000          184    9  53689.610\n",
              "21  1975  7.2920         572  16.9500          171    8  53955.042\n",
              "22  1976  7.1211         418  17.6500          247    7  54159.049\n",
              "23  1977  6.2587         821  15.5833           87    6  54378.362\n",
              "24  1978  7.1860         763  15.8167           51    5  54602.193>"
            ]
          },
          "metadata": {},
          "execution_count": 5
        }
      ]
    },
    {
      "cell_type": "code",
      "source": [
        "data.isnull().sum()"
      ],
      "metadata": {
        "colab": {
          "base_uri": "https://localhost:8080/"
        },
        "id": "q28SLg7PA8ee",
        "outputId": "959ea1bc-455e-4d1f-bf2f-85e2dd9eb246"
      },
      "execution_count": null,
      "outputs": [
        {
          "output_type": "execute_result",
          "data": {
            "text/plain": [
              "Year           0\n",
              "Price          0\n",
              "WinterRain     0\n",
              "AGST           0\n",
              "HarvestRain    0\n",
              "Age            0\n",
              "FrancePop      0\n",
              "dtype: int64"
            ]
          },
          "metadata": {},
          "execution_count": 6
        }
      ]
    },
    {
      "cell_type": "code",
      "source": [
        "X = data[['FrancePop']]\n",
        "Y = data[['Price']]\n",
        "X_train,X_test,Y_train,Y_test = train_test_split(X,Y,test_size=0.2,random_state=5) "
      ],
      "metadata": {
        "id": "GrZFjgRv-V-1"
      },
      "execution_count": null,
      "outputs": []
    },
    {
      "cell_type": "code",
      "source": [
        "corr_matrix = data.corr()\n",
        "plt.figure(figsize=(9, 8))\n",
        "sns.heatmap(data = corr_matrix,cmap='BrBG', annot=True, linewidths=0.2)\n"
      ],
      "metadata": {
        "colab": {
          "base_uri": "https://localhost:8080/",
          "height": 504
        },
        "id": "Ey3uSNjP9rxu",
        "outputId": "ffbfe46d-8e82-4bab-8f09-c287b0b800f0"
      },
      "execution_count": null,
      "outputs": [
        {
          "output_type": "execute_result",
          "data": {
            "text/plain": [
              "<matplotlib.axes._subplots.AxesSubplot at 0x7f6c68751390>"
            ]
          },
          "metadata": {},
          "execution_count": 8
        },
        {
          "output_type": "display_data",
          "data": {
            "text/plain": [
              "<Figure size 648x576 with 2 Axes>"
            ],
            "image/png": "[encoded data removed]"
          },
          "metadata": {
            "needs_background": "light"
          }
        }
      ]
    },
    {
      "cell_type": "code",
      "source": [
        "\n",
        "model=LinearRegression()\n",
        "model.fit(X_train,Y_train)\n"
      ],
      "metadata": {
        "id": "OT7s-WEx-Gcd",
        "colab": {
          "base_uri": "https://localhost:8080/"
        },
        "outputId": "e0b98b11-5df6-423e-c455-c60bab2e4242"
      },
      "execution_count": null,
      "outputs": [
        {
          "output_type": "execute_result",
          "data": {
            "text/plain": [
              "LinearRegression()"
            ]
          },
          "metadata": {},
          "execution_count": 9
        }
      ]
    },
    {
      "cell_type": "code",
      "source": [
        "model.predict(X_test)"
      ],
      "metadata": {
        "colab": {
          "base_uri": "https://localhost:8080/"
        },
        "id": "mc0RUb4IBqSg",
        "outputId": "2c45a24a-bff6-4c8e-c584-7ca0f7554976"
      },
      "execution_count": null,
      "outputs": [
        {
          "output_type": "execute_result",
          "data": {
            "text/plain": [
              "array([[6.76736906],\n",
              "       [6.80223549],\n",
              "       [7.4919238 ],\n",
              "       [7.08341361],\n",
              "       [6.71790693]])"
            ]
          },
          "metadata": {},
          "execution_count": 10
        }
      ]
    },
    {
      "cell_type": "code",
      "source": [
        "model_score=model.score(X_test,Y_test)\n",
        "print(model_score)"
      ],
      "metadata": {
        "colab": {
          "base_uri": "https://localhost:8080/"
        },
        "id": "srnfcxF7C1iE",
        "outputId": "befb4649-7864-4267-aaaa-561de88eb6c5"
      },
      "execution_count": null,
      "outputs": [
        {
          "output_type": "stream",
          "name": "stdout",
          "text": [
            "0.43907146693524424\n"
          ]
        }
      ]
    },
    {
      "cell_type": "code",
      "source": [
        "Y_pred = model.predict(X)\n",
        "plt.plot(X, Y_pred, color='red')\n",
        "\n",
        "plt.scatter(X, Y)\n",
        "plt.xlabel('FrancePop')\n",
        "plt.ylabel('Price')\n",
        "plt.show()"
      ],
      "metadata": {
        "colab": {
          "base_uri": "https://localhost:8080/",
          "height": 279
        },
        "id": "Xh_Ir2EoCwDI",
        "outputId": "b6b046f8-4fc7-439d-ed08-b3dc16ca353f"
      },
      "execution_count": null,
      "outputs": [
        {
          "output_type": "display_data",
          "data": {
            "text/plain": [
              "<Figure size 432x288 with 1 Axes>"
            ],
            "image/png": "[encoded data removed]"
          },
          "metadata": {
            "needs_background": "light"
          }
        }
      ]
    },
    {
      "cell_type": "code",
      "source": [
        ""
      ],
      "metadata": {
        "id": "FeJYuGh34Kz1"
      },
      "execution_count": null,
      "outputs": []
    }
  ]
}