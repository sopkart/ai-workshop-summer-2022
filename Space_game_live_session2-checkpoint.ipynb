{
 "cells": [
  {
   "cell_type": "code",
   "execution_count": 1,
   "id": "3791c8e8",
   "metadata": {},
   "outputs": [
    {
     "name": "stdout",
     "output_type": "stream",
     "text": [
      "Requirement already satisfied: pygame in c:\\users\\sophie\\anaconda3\\lib\\site-packages (2.1.2)\n"
     ]
    }
   ],
   "source": [
    "!pip install pygame"
   ]
  },
  {
   "cell_type": "code",
   "execution_count": 2,
   "id": "fa3bc78a",
   "metadata": {},
   "outputs": [
    {
     "name": "stdout",
     "output_type": "stream",
     "text": [
      "pygame 2.1.2 (SDL 2.0.18, Python 3.9.12)\n",
      "Hello from the pygame community. https://www.pygame.org/contribute.html\n"
     ]
    }
   ],
   "source": [
    "import pygame\n",
    "import random\n",
    "import math\n",
    "from pygame import mixer"
   ]
  },
  {
   "cell_type": "code",
   "execution_count": 3,
   "id": "71473b68",
   "metadata": {},
   "outputs": [
    {
     "data": {
      "text/plain": [
       "(5, 0)"
      ]
     },
     "execution_count": 3,
     "metadata": {},
     "output_type": "execute_result"
    }
   ],
   "source": [
    "pygame.init() # Intialize the pygame"
   ]
  },
  {
   "cell_type": "code",
   "execution_count": 4,
   "id": "ed65d613",
   "metadata": {},
   "outputs": [],
   "source": [
    "#create a screen\n",
    "\n",
    "'''\n",
    "import os\n",
    "\n",
    "os.environ['SDL_VIDEODRIVER']='dummy'\n",
    "'''\n",
    "\n",
    "screen = pygame.display.set_mode((800, 600))"
   ]
  },
  {
   "cell_type": "code",
   "execution_count": 5,
   "id": "bd1b37a5",
   "metadata": {},
   "outputs": [],
   "source": [
    "# Adding background image\n",
    "\n",
    "background = pygame.image.load('background.png')"
   ]
  },
  {
   "cell_type": "code",
   "execution_count": 6,
   "id": "74122fb8",
   "metadata": {},
   "outputs": [],
   "source": [
    "#Background music\n",
    "\n",
    "mixer.music.load('background.wav')\n",
    "mixer.music.play(-1)"
   ]
  },
  {
   "cell_type": "code",
   "execution_count": 7,
   "id": "acf59c7b",
   "metadata": {},
   "outputs": [],
   "source": [
    "# Title\n",
    "\n",
    "pygame.display.set_caption('Name yet to be Decided')\n",
    "icon = pygame.image.load('ufo.png')\n",
    "pygame.display.set_icon(icon)"
   ]
  },
  {
   "cell_type": "code",
   "execution_count": 8,
   "id": "0d26b42d",
   "metadata": {},
   "outputs": [],
   "source": [
    "# player \n",
    "\n",
    "playerImg = pygame.image.load('player.png')\n",
    "playerX= 370\n",
    "playerY=480\n",
    "playerX_change=0"
   ]
  },
  {
   "cell_type": "code",
   "execution_count": 9,
   "id": "2da48d60",
   "metadata": {},
   "outputs": [],
   "source": [
    "# Enemy\n",
    "\n",
    "enemyImg, enemyX, enemyY,enemyY_change, enemyX_change = [],[],[],[],[]\n",
    "\n",
    "num_of_enemies=6 "
   ]
  },
  {
   "cell_type": "code",
   "execution_count": 10,
   "id": "8fba35be",
   "metadata": {},
   "outputs": [],
   "source": [
    "for i in range(num_of_enemies):\n",
    "    \n",
    "    enemyImg.append(pygame.image.load('enemy.png'))\n",
    "    \n",
    "    enemyX.append(random.randint(0,736))\n",
    "    enemyY.append(random.randint(50,150))\n",
    "    \n",
    "    enemyX_change.append(4)\n",
    "    enemyY_change.append(40)\n",
    "    "
   ]
  },
  {
   "cell_type": "code",
   "execution_count": 11,
   "id": "09dc77b1",
   "metadata": {},
   "outputs": [],
   "source": [
    "#Bullet\n",
    "\n",
    "bulletImg = pygame.image.load('bullet.png')\n",
    "bulletX= 0\n",
    "bulletY = 480\n",
    "\n",
    "bulletX_change=0\n",
    "bulletY_change=10\n",
    "\n",
    "bullet_state = 'ready'\n"
   ]
  },
  {
   "cell_type": "code",
   "execution_count": 12,
   "id": "326af002",
   "metadata": {},
   "outputs": [],
   "source": [
    "#Score\n",
    "\n",
    "score_value = 0\n",
    "font = pygame.font.Font('freesansbold.ttf',32)\n",
    "\n",
    "testX=10\n",
    "testY=10\n"
   ]
  },
  {
   "cell_type": "code",
   "execution_count": 13,
   "id": "63b8e3d0",
   "metadata": {},
   "outputs": [],
   "source": [
    "# End game\n",
    "\n",
    "over_font = pygame.font.Font('freesansbold.ttf',64)"
   ]
  },
  {
   "cell_type": "code",
   "execution_count": 14,
   "id": "34bca159",
   "metadata": {},
   "outputs": [],
   "source": [
    "def show_score(x,y):\n",
    "    \n",
    "    score = font.render(\"Score : \" + str(score_value), True, (255, 255, 255))\n",
    "    screen.blit(score, (x, y))\n",
    "    "
   ]
  },
  {
   "cell_type": "code",
   "execution_count": 15,
   "id": "f628fd2f",
   "metadata": {},
   "outputs": [],
   "source": [
    "def game_over_text():\n",
    "    \n",
    "    over_text = over_font.render(\"GAME OVER\", True, (255, 255, 255))\n",
    "    screen.blit(over_text, (200, 250))"
   ]
  },
  {
   "cell_type": "code",
   "execution_count": 16,
   "id": "9aa94729",
   "metadata": {},
   "outputs": [],
   "source": [
    "def player(x, y):\n",
    "    screen.blit(playerImg, (x, y))\n",
    "    \n",
    "\n",
    "def enemy(x, y, i):\n",
    "    screen.blit(enemyImg[i], (x, y))    "
   ]
  },
  {
   "cell_type": "code",
   "execution_count": 17,
   "id": "ed3a9a23",
   "metadata": {},
   "outputs": [],
   "source": [
    "def fire_bullet(x, y):\n",
    "    \n",
    "    global bullet_state\n",
    "    bullet_state = \"fire\"\n",
    "    screen.blit(bulletImg, (x + 16, y + 10))\n"
   ]
  },
  {
   "cell_type": "code",
   "execution_count": 18,
   "id": "550da0ac",
   "metadata": {},
   "outputs": [],
   "source": [
    "def isCollision(enemyX, enemyY, bulletX, bulletY):\n",
    "    \n",
    "    distance = math.sqrt(math.pow(enemyX - bulletX, 2) + (math.pow(enemyY - bulletY, 2)))\n",
    "    if distance < 27:\n",
    "        return True\n",
    "    else:\n",
    "        return False"
   ]
  },
  {
   "cell_type": "code",
   "execution_count": 19,
   "id": "8d60d7fb",
   "metadata": {},
   "outputs": [
    {
     "name": "stderr",
     "output_type": "stream",
     "text": [
      "<>:30: SyntaxWarning: \"is\" with a literal. Did you mean \"==\"?\n",
      "<>:109: SyntaxWarning: \"is\" with a literal. Did you mean \"==\"?\n",
      "<>:30: SyntaxWarning: \"is\" with a literal. Did you mean \"==\"?\n",
      "<>:109: SyntaxWarning: \"is\" with a literal. Did you mean \"==\"?\n",
      "C:\\Users\\Sophie\\AppData\\Local\\Temp\\ipykernel_7000\\2136172435.py:30: SyntaxWarning: \"is\" with a literal. Did you mean \"==\"?\n",
      "  if bullet_state is 'ready':\n",
      "C:\\Users\\Sophie\\AppData\\Local\\Temp\\ipykernel_7000\\2136172435.py:109: SyntaxWarning: \"is\" with a literal. Did you mean \"==\"?\n",
      "  if bullet_state is 'fire':\n"
     ]
    }
   ],
   "source": [
    "run = True\n",
    "\n",
    "while run:\n",
    "    \n",
    "    #Red,Green,Blue\n",
    "    \n",
    "    screen.fill((0,0,0))\n",
    "    \n",
    "    #back ground image\n",
    "    screen.blit(background,(0,0))\n",
    "    \n",
    "    for event in pygame.event.get():\n",
    "        \n",
    "        if event.type == pygame.QUIT:\n",
    "            run = False\n",
    "    \n",
    "        # if keystroke is pressed check whether its right or left\n",
    "\n",
    "\n",
    "        if event.type == pygame.KEYDOWN:\n",
    "            if event.key == pygame.K_LEFT:\n",
    "                playerX_change= -5\n",
    "\n",
    "            if event.key == pygame.K_RIGHT:\n",
    "                playerX_change= 5    \n",
    "\n",
    "\n",
    "            if event.key ==pygame.K_SPACE:\n",
    "\n",
    "                if bullet_state is 'ready':\n",
    "                    bulletSound = mixer.Sound('laser.wav')\n",
    "                    bulletSound.play()\n",
    "\n",
    "\n",
    "                    bulletX=playerX\n",
    "\n",
    "                    fire_bullet(bulletX,bulletY)\n",
    "\n",
    "\n",
    "        if event.type == pygame.KEYUP:\n",
    "            if event.key == pygame.K_LEFT or  event.key == pygame.K_RIGHT:\n",
    "                playerX_change = 0\n",
    "                \n",
    "    playerX +=playerX_change\n",
    "    \n",
    "    if playerX <=0:\n",
    "        playerX = 0\n",
    "        \n",
    "    elif playerX>=736:\n",
    "        playerX = 736\n",
    "        \n",
    "    \n",
    "    #enemy movements\n",
    "    \n",
    "    \n",
    "    for i in range(num_of_enemies):\n",
    "        \n",
    "        if enemyY[i] > 400:\n",
    "            for j in range(num_of_enemies):\n",
    "                enemyY[j] = 2000\n",
    "            \n",
    "            game_over_text()\n",
    "            break\n",
    "        \n",
    "        \n",
    "        enemyX[i] +=enemyX_change[i]\n",
    "        \n",
    "        if enemyX[i] <=0:\n",
    "            \n",
    "            enemyX_change[i] = 4\n",
    "            enemyY[i] +=enemyY_change[i]\n",
    "            \n",
    "        elif enemyX[i] >=736:\n",
    "            enemyX_change[i] = -4\n",
    "            enemyY[i] += enemyY_change[i]\n",
    "                \n",
    "                \n",
    "      \n",
    "        #collision\n",
    "\n",
    "        collision = isCollision(enemyX[i],enemyY[i], bulletX, bulletY)\n",
    "\n",
    "        if collision:\n",
    "\n",
    "            explosionSound = mixer.Sound('explosion.wav')\n",
    "\n",
    "            explosionSound.play()\n",
    "\n",
    "            bulletY = 480\n",
    "            \n",
    "            bullet_state = 'ready'\n",
    "            \n",
    "            score_value +=1\n",
    "            \n",
    "            enemyX[i] = random.randint(0,736)\n",
    "            enemyY[i] = random.randint(50,150)\n",
    "            \n",
    "            \n",
    "        enemy(enemyX[i], enemyY[i],i)     \n",
    "        \n",
    "        \n",
    "        \n",
    "    # bullet movement\n",
    "\n",
    "    if bulletY <=0:\n",
    "        bulletY = 480\n",
    "        bullet_state = 'ready'\n",
    "\n",
    "    if bullet_state is 'fire':\n",
    "\n",
    "        fire_bullet (bulletX, bulletY)\n",
    "        bulletY -=bulletY_change\n",
    "            \n",
    "\n",
    "    player(playerX, playerY)\n",
    "    show_score(testX, testY)\n",
    "    pygame.display.update()     \n",
    "                \n",
    "            "
   ]
  }
 ],
 "metadata": {
  "kernelspec": {
   "display_name": "Python 3 (ipykernel)",
   "language": "python",
   "name": "python3"
  },
  "language_info": {
   "codemirror_mode": {
    "name": "ipython",
    "version": 3
   },
   "file_extension": ".py",
   "mimetype": "text/x-python",
   "name": "python",
   "nbconvert_exporter": "python",
   "pygments_lexer": "ipython3",
   "version": "3.9.12"
  }
 },
 "nbformat": 4,
 "nbformat_minor": 5
}
