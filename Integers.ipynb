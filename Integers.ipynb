{
  "nbformat": 4,
  "nbformat_minor": 0,
  "metadata": {
    "colab": {
      "name": "Integers",
      "provenance": []
    },
    "kernelspec": {
      "name": "python3",
      "display_name": "Python 3"
    },
    "language_info": {
      "name": "python"
    }
  },
  "cells": [
    {
      "cell_type": "code",
      "execution_count": null,
      "metadata": {
        "colab": {
          "base_uri": "https://localhost:8080/"
        },
        "id": "Hb702ETbzCdi",
        "outputId": "ee7e6225-9270-428b-8be5-d765ae7830d0"
      },
      "outputs": [
        {
          "output_type": "stream",
          "name": "stdout",
          "text": [
            "3\n",
            "4\n",
            "7\n",
            "-1\n"
          ]
        }
      ],
      "source": [
        "num1 = int(input())\n",
        "num2 = int(input())\n",
        "sum = num1 + num2\n",
        "dif = num1-num2\n",
        "print(sum)\n",
        "print(dif)"
      ]
    },
    {
      "cell_type": "code",
      "source": [
        "n = int(input())\n",
        "i=1\n",
        "while i<=n:\n",
        "  print(i)\n",
        "  i=i+1\n"
      ],
      "metadata": {
        "colab": {
          "base_uri": "https://localhost:8080/"
        },
        "id": "aCygPS2T-LO8",
        "outputId": "7989846a-37ac-44d4-a99e-8435a5d5ce10"
      },
      "execution_count": null,
      "outputs": [
        {
          "output_type": "stream",
          "name": "stdout",
          "text": [
            "5\n",
            "1\n",
            "2\n",
            "3\n",
            "4\n",
            "5\n"
          ]
        }
      ]
    },
    {
      "cell_type": "code",
      "source": [
        "n = int(input())\n",
        "i=1\n",
        "list=[]\n",
        "while i<=n:\n",
        "  list.append(i)\n",
        "  i=i+1\n",
        "print(list)\n",
        "sum = 0\n",
        "for i in list:\n",
        "  sum = sum + i\n",
        "print(sum)\n"
      ],
      "metadata": {
        "colab": {
          "base_uri": "https://localhost:8080/"
        },
        "id": "WNkd8sZcBKhS",
        "outputId": "c174af5a-73c4-4228-ae17-082ec0d8ebd3"
      },
      "execution_count": null,
      "outputs": [
        {
          "output_type": "stream",
          "name": "stdout",
          "text": [
            "5\n",
            "[1, 2, 3, 4, 5]\n",
            "15\n"
          ]
        }
      ]
    }
  ]
}